{
 "cells": [
  {
   "cell_type": "code",
   "execution_count": 14,
   "metadata": {},
   "outputs": [],
   "source": [
    "import os\n",
    "\n",
    "import numpy as np\n",
    "\n",
    "import scipy\n",
    "import scipy.io\n",
    "import scipy.signal\n",
    "\n",
    "import matplotlib\n",
    "import matplotlib.pyplot as plt\n",
    "\n",
    "import sklearn\n",
    "import sklearn.preprocessing\n",
    "\n",
    "import h5py\n",
    "\n",
    "import torch\n",
    "import torch.nn as nn\n",
    "\n",
    "from tqdm import tqdm as tqdm\n",
    "\n",
    "from torch.utils.tensorboard import SummaryWriter\n",
    "\n",
    "import librosa\n",
    "import librosa.display\n",
    "import IPython.display\n",
    "\n",
    "from abc import abstractmethod\n",
    "from torch.utils.data import Dataset, DataLoader"
   ]
  },
  {
   "cell_type": "code",
   "execution_count": 7,
   "metadata": {},
   "outputs": [],
   "source": [
    "def notch_filtering(ecog, frequency):\n",
    "    ecog_filtered = ecog\n",
    "    for w0 in [50, 100, 150]:\n",
    "        norch_b, norch_a = scipy.signal.iirnotch(w0, Q=10, fs=frequency)\n",
    "        ecog_filtered = scipy.signal.filtfilt(norch_b, norch_a, ecog_filtered, axis=0)\n",
    "    return ecog_filtered\n",
    "\n",
    "def extract_sound_log_envelope(sound, frequency):\n",
    "    LOW_PASS_FREQUENCY = 200\n",
    "    HIGH_PASS_FREQUENCY = 200\n",
    "    blp, alp = scipy.signal.butter(3, LOW_PASS_FREQUENCY / (frequency / 2), btype='low', analog=False)\n",
    "    bhp, ahp = scipy.signal.butter(5, HIGH_PASS_FREQUENCY / (frequency / 2), btype='high', analog=False)\n",
    "    sound_filtered  = scipy.signal.filtfilt(bhp, ahp, sound);\n",
    "    envelope = scipy.signal.filtfilt(blp, alp, np.log(np.abs(sound_filtered)))\n",
    "    return envelope\n",
    "\n",
    "def sound_hpf(sound, frequency):\n",
    "    HIGH_PASS_FREQUENCY = 200\n",
    "    bhp, ahp = scipy.signal.butter(5, HIGH_PASS_FREQUENCY / (frequency / 2), btype='high', analog=False)\n",
    "    sound_filtered  = scipy.signal.filtfilt(bhp, ahp, sound);\n",
    "    return sound_filtered\n",
    "\n",
    "def envelope_signals(signals):\n",
    "    enveloped_signals = np.zeros(signals.shape)\n",
    "    for i in range(signals.shape[1]):\n",
    "        enveloped_signals[:, i] = np.abs(scipy.signal.hilbert(signals[:, i]))\n",
    "    return enveloped_signals\n",
    "\n",
    "def remove_eyes_artifacts(ecog, frequency):\n",
    "    HIGH_PASS_FREQUENCY = 20\n",
    "    bgamma, agamma = scipy.signal.butter(5, HIGH_PASS_FREQUENCY / (frequency / 2), btype='high')\n",
    "    return scipy.signal.filtfilt(bgamma, agamma, ecog, axis=0)"
   ]
  },
  {
   "cell_type": "code",
   "execution_count": 69,
   "metadata": {},
   "outputs": [],
   "source": [
    "# original data\n",
    "DATA_FOLDER = 'C:/Workspace/PatientData/Procenko/records_03112021'\n",
    "FILES_LIST = [\n",
    "    f'{DATA_FOLDER}/Patient001_test0042021.03.11_19.12.59.hdf5',\n",
    "    f'{DATA_FOLDER}/Patient001_test0052021.03.11_19.26.24.hdf5',\n",
    "    f'{DATA_FOLDER}/Patient001_test0062021.03.11_19.42.41.hdf5',\n",
    "    f'{DATA_FOLDER}/Patient001_test0072021.03.11_20.40.02.hdf5',\n",
    "    f'{DATA_FOLDER}/Patient001_test0082021.03.11_20.55.25.hdf5',\n",
    "    f'{DATA_FOLDER}/Patient001_test0092021.03.11_21.10.53.hdf5',\n",
    "            ]\n",
    "FREQUENCY = 19200\n",
    "\n",
    "# prepare ecog data\n",
    "left_remove_index = np.array([0, 0, 5, 10, 0.5, 1.5])*FREQUENCY\n",
    "DOWNSAMPLING_COEF = 10\n",
    "output_filepath = 'C:/Workspace/NeuralSignal/datasets/data_preprocessed.hdf5'\n",
    "create_output = not os.path.exists(output_filepath)\n",
    "\n",
    "\n",
    "if create_output:\n",
    "    for i, filepath in tqdm(enumerate(FILES_LIST)):\n",
    "\n",
    "        # open one of the files with expe\n",
    "        with h5py.File(filepath,'r+') as input_file:\n",
    "            ecog = np.array(input_file['RawData']['Samples'][:, :30], dtype='double')\n",
    "            sound = np.array(input_file['RawData']['Samples'][:, 30], dtype='double')\n",
    "\n",
    "        # remove unrelated data, downsample, filter, scale, and convert to 'float32'\n",
    "        ecog = ecog[int(left_remove_index[i]):,:]\n",
    "        ecog = scipy.signal.decimate(ecog, DOWNSAMPLING_COEF, axis=0)\n",
    "        ecog = remove_eyes_artifacts(ecog, FREQUENCY // DOWNSAMPLING_COEF)\n",
    "        ecog = notch_filtering(ecog, FREQUENCY // DOWNSAMPLING_COEF)\n",
    "        ecog = sklearn.preprocessing.scale(ecog, copy=False)\n",
    "        ecog = ecog.astype(\"float32\")\n",
    "\n",
    "        # filter >200 to remove potential ecog influence\n",
    "        sound = sound_hpf(sound, FREQUENCY)\n",
    "        sound = sklearn.preprocessing.scale(sound, copy=False)\n",
    "        sound = sound.astype(\"float32\")\n",
    "\n",
    "        # save ecog in single file\n",
    "        with h5py.File(output_filepath,'a') as output_file:\n",
    "            subset_name = f'subset_{i}'\n",
    "            output_file[subset_name + '/ecog'] = ecog\n",
    "            output_file[subset_name + '/sound'] = sound\n"
   ]
  },
  {
   "cell_type": "code",
   "execution_count": 76,
   "metadata": {},
   "outputs": [],
   "source": [
    "# abstract Map-style dataset class\n",
    "# \n",
    "class NeuralSignalDataset(Dataset):\n",
    "    def __init__(self, filepath, subsets):\n",
    "        self._create_dataset(filepath, subsets)\n",
    "        \n",
    "    def _create_dataset(self, filepath, subsets):\n",
    "        self.batches = []\n",
    "        if isinstance(subsets, str):\n",
    "            self.batches = self._make_batches(filepath, subsets)\n",
    "        elif isinstance(subsets, (list, tuple)):\n",
    "            for subset in subsets:\n",
    "                self.batches += self._make_batches(filepath, subset)\n",
    "                \n",
    "    def _make_batches(self, filepath, subset):\n",
    "        with h5py.File(filepath,'r+') as input_file:\n",
    "            ecog = np.array(input_file[subset + '/ecog'], dtype=np.float32)\n",
    "            sound = np.array(input_file[subset + '/sound'], dtype=np.float32)\n",
    "        batches = self.transform_data(ecog, sound)\n",
    "        return batches\n",
    "\n",
    "    def __len__(self):\n",
    "        return len(self.batches)\n",
    "    \n",
    "    def __getitem__(self, idx):\n",
    "        return self.batches[idx]\n",
    "    \n",
    "    @abstractmethod\n",
    "    def transform_data(self, ecog, sound):\n",
    "        pass"
   ]
  },
  {
   "cell_type": "code",
   "execution_count": 77,
   "metadata": {},
   "outputs": [],
   "source": [
    "class NeuralSignalDatasetTS(NeuralSignalDataset):\n",
    "    def __init__(self, config):\n",
    "        self.config = config\n",
    "        super(NeuralSignalDatasetTS, self).__init__(config['filepath'], config['subsets'])\n",
    "        \n",
    "    def transform_data(self, ecog, sound):\n",
    "        ecog_window = self.config['ecog_window_ms'] * self.config['frequency_ecog']//1000\n",
    "        ecog_lag_backward = self.config['ecog_lag_backward_ms'] * self.config['frequency_ecog']//1000\n",
    "        ecog_lag_forward = self.config['ecog_lag_forward_ms'] * self.config['frequency_ecog']//1000\n",
    "        total_window = ecog_lag_backward + ecog_window + ecog_window\n",
    "        sound_window = self.config['sound_window_ms'] * self.config['frequency_sound']//1000\n",
    "        \n",
    "        nbatch = (ecog.shape[0] - total_window) // ecog_window + 1\n",
    "        ecog_left_index = np.arange(ecog_lag_backward, ecog_lag_backward + nbatch*ecog_window, ecog_window)\n",
    "        ecog_center_index = (ecog_left_index + ecog_window//2)\n",
    "        sound_center_index = ecog_center_index * (self.config['frequency_sound'] // self.config['frequency_ecog'])\n",
    "        sound_left_index = sound_center_index - sound_window//2\n",
    "        \n",
    "        batches = [(torch.FloatTensor(ecog[ecog_left_index[i] - ecog_lag_backward:ecog_left_index[i] + ecog_window + ecog_lag_forward, :]),\n",
    "                   torch.FloatTensor(sound[sound_left_index[i]:sound_left_index[i] + sound_window])) for i in range(nbatch)]\n",
    "        \n",
    "        return batches"
   ]
  },
  {
   "cell_type": "code",
   "execution_count": 78,
   "metadata": {},
   "outputs": [],
   "source": [
    "config_ts ={\n",
    "    'filepath': 'C:/Workspace/NeuralSignal/datasets/data_preprocessed.hdf5',\n",
    "    'subsets': 'subset_0',\n",
    "    'frequency_ecog': 1920,\n",
    "    'ecog_window_ms': 100,\n",
    "    'ecog_lag_backward_ms': 200, \n",
    "    'ecog_lag_forward_ms': 200,\n",
    "    'frequency_sound': 19200,\n",
    "    'sound_window': 100,\n",
    "}\n",
    "print(f'size of sound chunk: {config_ts[]}')\n",
    "dataset = NeuralSignalDatasetTS(config_ts)\n",
    "loader = DataLoader(dataset, batch_size=32, shuffle=True)"
   ]
  },
  {
   "cell_type": "code",
   "execution_count": 90,
   "metadata": {},
   "outputs": [],
   "source": [
    "ecog_chunk, sound_chunk = dataset[0]\n",
    "sound_chunk = sound_chunk.numpy()"
   ]
  },
  {
   "cell_type": "code",
   "execution_count": 92,
   "metadata": {},
   "outputs": [
    {
     "data": {
      "text/plain": [
       "(torch.Size([960, 30]), (1920,))"
      ]
     },
     "execution_count": 92,
     "metadata": {},
     "output_type": "execute_result"
    }
   ],
   "source": [
    "ecog_chunk.size(), sound_chunk.shape"
   ]
  },
  {
   "cell_type": "code",
   "execution_count": null,
   "metadata": {},
   "outputs": [],
   "source": [
    "def extract_mfccs(sound, sr, i_mel, lngt):\n",
    "    S = librosa.feature.melspectrogram(y=sound, sr=sr, n_mels=16, fmax=4000,hop_length=256)\n",
    "    mfccs = librosa.feature.mfcc(S = librosa.power_to_db(S),n_mfcc = 16);\n",
    "    the_mfcc = scipy.signal.resample(x = mfccs[i_mel,:].T, num = lngt).T;\n",
    "    return the_mfcc"
   ]
  },
  {
   "cell_type": "code",
   "execution_count": null,
   "metadata": {},
   "outputs": [],
   "source": []
  },
  {
   "cell_type": "code",
   "execution_count": null,
   "metadata": {},
   "outputs": [],
   "source": []
  },
  {
   "cell_type": "code",
   "execution_count": null,
   "metadata": {},
   "outputs": [],
   "source": []
  },
  {
   "cell_type": "code",
   "execution_count": null,
   "metadata": {},
   "outputs": [],
   "source": []
  },
  {
   "cell_type": "code",
   "execution_count": null,
   "metadata": {},
   "outputs": [],
   "source": []
  },
  {
   "cell_type": "code",
   "execution_count": null,
   "metadata": {},
   "outputs": [],
   "source": [
    "def prepare_data_ecog(filepath):\n",
    "    FREQUENCY = 19200\n",
    "    DOWNSAMPLING_COEF = 10\n",
    "    FREQUENCY_DOWNSAMPLE = FREQUENCY // DOWNSAMPLING_COEF\n",
    "    HIGH_PASS_FREQUENCY = 20\n",
    "    NOTCH_FREQUENCY = (50, 100, 150)\n",
    "    \n",
    "    with h5py.File(filepath,'r+') as input_file:\n",
    "        ecog = np.array(input_file['RawData']['Samples'][:, :30], dtype='double')\n",
    "\n",
    "    # downsample\n",
    "    ecog = scipy.signal.decimate(ecog, DOWNSAMPLING_COEF, axis=0)\n",
    "    \n",
    "    # remove eyes artifacts (hpf 20)\n",
    "    bgamma, agamma = scipy.signal.butter(5, HIGH_PASS_FREQUENCY / (FREQUENCY_DOWNSAMPLE / 2), btype='high')\n",
    "    ecog = scipy.signal.filtfilt(bgamma, agamma, ecog, axis=0)\n",
    "    \n",
    "    # notch for (50, 100, 150) Hz\n",
    "    for w0 in NOTCH_FREQUENCY:\n",
    "        norch_b, norch_a = scipy.signal.iirnotch(w0, Q=10, fs=FREQUENCY_DOWNSAMPLE)\n",
    "        ecog = scipy.signal.filtfilt(norch_b, norch_a, ecog, axis=0)\n",
    "        \n",
    "    return ecog"
   ]
  },
  {
   "cell_type": "code",
   "execution_count": 17,
   "metadata": {},
   "outputs": [
    {
     "name": "stderr",
     "output_type": "stream",
     "text": [
      "100%|████████████████████████████████████████████████████████████████████████████████████| 6/6 [02:30<00:00, 25.14s/it]\n"
     ]
    }
   ],
   "source": [
    "sound = []\n",
    "for filepath in tqdm(FILES_LIST):\n",
    "    with h5py.File(filepath,'r+') as input_file:\n",
    "        #ecog = np.array(input_file['RawData']['Samples'][:, :30], dtype='double')\n",
    "        sound.append(np.array(input_file['RawData']['Samples'][:, 31], dtype='double'))\n"
   ]
  },
  {
   "cell_type": "code",
   "execution_count": null,
   "metadata": {},
   "outputs": [],
   "source": []
  },
  {
   "cell_type": "code",
   "execution_count": null,
   "metadata": {},
   "outputs": [],
   "source": []
  },
  {
   "cell_type": "code",
   "execution_count": null,
   "metadata": {},
   "outputs": [],
   "source": []
  },
  {
   "cell_type": "code",
   "execution_count": null,
   "metadata": {},
   "outputs": [],
   "source": []
  },
  {
   "cell_type": "code",
   "execution_count": 6,
   "metadata": {},
   "outputs": [
    {
     "name": "stderr",
     "output_type": "stream",
     "text": [
      "100%|████████████████████████████████████████████████████████████████████████████████████| 6/6 [07:37<00:00, 76.29s/it]\n"
     ]
    }
   ],
   "source": [
    "FREQUENCY = 19200\n",
    "DOWNSAMPLING_COEF = 10\n",
    "FREQUENCY_DOWNSAMPLE = FREQUENCY // DOWNSAMPLING_COEF\n",
    "\n",
    "X = []\n",
    "Y = []\n",
    "\n",
    "for filepath in tqdm(FILES_LIST):\n",
    "    with h5py.File(filepath,'r+') as input_file:\n",
    "        ecog = np.array(input_file['RawData']['Samples'][:, :30], dtype='double')\n",
    "        sound = np.array(input_file['RawData']['Samples'][:, 31], dtype='double')\n",
    "    \n",
    "    ecog = scipy.signal.decimate(ecog, DOWNSAMPLING_COEF, axis=0)\n",
    "    ecog = remove_eyes_artifacts(ecog, FREQUENCY_DOWNSAMPLE)\n",
    "    ecog = notch_filtering(ecog, FREQUENCY_DOWNSAMPLE)\n",
    "    \n",
    "    sound_envelope = extract_mfccs(sound = sound, sr=FREQUENCY, i_mel = 1, lngt = ecog.shape[0]).T\n",
    "    \n",
    "    X.append(ecog)\n",
    "    Y.append(sound_envelope)\n",
    "\n",
    "X = np.concatenate(X)\n",
    "Y = np.concatenate(Y).reshape((-1, 1))\n",
    "\n",
    "X = sklearn.preprocessing.scale(X, copy=False)\n",
    "Y = sklearn.preprocessing.scale(Y, copy=False)\n",
    "\n",
    "X = X.astype(\"float32\")\n",
    "Y = Y.astype(\"float32\")"
   ]
  },
  {
   "cell_type": "code",
   "execution_count": null,
   "metadata": {},
   "outputs": [],
   "source": []
  },
  {
   "cell_type": "code",
   "execution_count": null,
   "metadata": {},
   "outputs": [],
   "source": []
  },
  {
   "cell_type": "code",
   "execution_count": null,
   "metadata": {},
   "outputs": [],
   "source": []
  },
  {
   "cell_type": "code",
   "execution_count": null,
   "metadata": {},
   "outputs": [],
   "source": []
  },
  {
   "cell_type": "code",
   "execution_count": null,
   "metadata": {},
   "outputs": [],
   "source": []
  },
  {
   "cell_type": "code",
   "execution_count": 7,
   "metadata": {},
   "outputs": [],
   "source": [
    "def data_generator(X, Y, batch_size, lag_backward, lag_forward, shuffle=True, infinite=True):\n",
    "    assert len(X)==len(Y) or len(Y)==0\n",
    "    total_lag = lag_backward + lag_forward\n",
    "    all_batches = math.ceil((X.shape[0] - total_lag) /batch_size)\n",
    "    samples_in_last_batch = (X.shape[0] - total_lag) % batch_size\n",
    "    batch = 0\n",
    "    random_core = np.arange(lag_backward, X.shape[0]-lag_forward)\n",
    "    while True:\n",
    "        if shuffle: np.random.shuffle(random_core)\n",
    "        for batch in range(all_batches):       \n",
    "            batch_start = batch * batch_size\n",
    "            batch_end = (batch + 1) * batch_size\n",
    "            if batch_end>=len(random_core): batch_end = None\n",
    "            batch_samples = random_core[batch_start : batch_end]\n",
    "\n",
    "            batch_x = np.array([X[i - lag_backward : i + lag_forward] for i in batch_samples])\n",
    "            batch_x = np.swapaxes(batch_x,1,2)\n",
    "\n",
    "            if len(Y) > 0:\n",
    "                batch_y = Y[[batch_samples]] \n",
    "                yield (batch_x, batch_y)\n",
    "            else:\n",
    "                yield batch_x\n",
    "        \n",
    "        if not infinite:\n",
    "            break"
   ]
  },
  {
   "cell_type": "code",
   "execution_count": 8,
   "metadata": {},
   "outputs": [
    {
     "name": "stdout",
     "output_type": "stream",
     "text": [
      "62.5 min\n"
     ]
    }
   ],
   "source": [
    "print(f\"{round(X.shape[0] / FREQUENCY_DOWNSAMPLE / 60, 1)} min\")\n",
    "\n",
    "ntr = int(X.shape[0] * 0.80)\n",
    "\n",
    "X_test = X[ntr:]\n",
    "Y_test = Y[ntr:]\n",
    "\n",
    "X_train = X[:ntr]\n",
    "Y_train = Y[:ntr]"
   ]
  },
  {
   "cell_type": "code",
   "execution_count": 9,
   "metadata": {},
   "outputs": [],
   "source": [
    "class EnvelopeDetector(nn.Module):\n",
    "    def __init__(self, in_channels):\n",
    "        super(self.__class__,self).__init__()\n",
    "        self.FILTERING_SIZE = 75\n",
    "        self.ENVELOPE_SIZE = 75\n",
    "        self.conv_filtering = nn.Conv1d(in_channels, in_channels, bias=False, kernel_size=self.FILTERING_SIZE, groups=in_channels)\n",
    "        self.conv_envelope = nn.Conv1d(in_channels, in_channels, kernel_size=self.ENVELOPE_SIZE, groups=in_channels)\n",
    "        self.pre_envelope_batchnorm = torch.nn.BatchNorm1d(in_channels, affine=False) \n",
    "        self.relu = torch.nn.ReLU()\n",
    "\n",
    "    def forward(self, x):\n",
    "        x = self.conv_filtering(x)\n",
    "        x = self.pre_envelope_batchnorm(x)\n",
    "        #x = self.relu(x)\n",
    "        x = torch.abs(x)\n",
    "        x = self.conv_envelope(x)\n",
    "        return x"
   ]
  },
  {
   "cell_type": "code",
   "execution_count": 10,
   "metadata": {},
   "outputs": [],
   "source": [
    "\n",
    "class SimpleNet(nn.Module):\n",
    "    def __init__(self, in_channels, output_channels, lag_backward, lag_forward):\n",
    "        super(self.__class__,self).__init__()\n",
    "        self.ICA_CHANNELS = 5\n",
    "        self.relu = torch.nn.Sigmoid()\n",
    "\n",
    "        self.total_input_channels = self.ICA_CHANNELS\n",
    "        self.lag_backward = lag_backward\n",
    "        self.lag_forward = lag_forward\n",
    "\n",
    "        self.final_out_features = 95\n",
    "\n",
    "        self.ica = nn.Conv1d(in_channels, self.ICA_CHANNELS, 1)\n",
    "\n",
    "        self.detector = EnvelopeDetector(self.ICA_CHANNELS)\n",
    "        self.unmixed_batchnorm = torch.nn.BatchNorm1d(self.ICA_CHANNELS, affine=False)\n",
    "        \n",
    "        self.features_batchnorm = torch.nn.BatchNorm1d(self.final_out_features, affine=False)\n",
    "        \n",
    "        self.pre_output_features = int(self.final_out_features/2)\n",
    "        \n",
    "        self.not_yet_output_features = int(self.pre_output_features/2)\n",
    "\n",
    "        self.wights_second = nn.Linear(self.final_out_features, self.pre_output_features)\n",
    "        \n",
    "        self.wights_third = nn.Linear(self.pre_output_features, self.not_yet_output_features)\n",
    "        \n",
    "        self.wights_fourth = nn.Linear(self.not_yet_output_features, output_channels)\n",
    "\n",
    "    def forward(self, inputs):\n",
    "        all_inputs = self.ica(inputs)\n",
    "        #self.unmixed_channels = all_inputs.cpu().data.numpy()\n",
    "        #all_inputs = self.unmixed_batchnorm(all_inputs)\n",
    "\n",
    "        detected_envelopes = self.detector(all_inputs)\n",
    "\n",
    "#        features  = detected_envelopes[:, :, ::10].contiguous()\n",
    "        features  = detected_envelopes[:, :, 10:-10:10].contiguous()\n",
    "        features = features.view(features.size(0), -1)\n",
    "        #features = self.features_batchnorm(features)\n",
    "        #self.pre_out = features.cpu().data.numpy()\n",
    "        preoutput = self.wights_second(features)\n",
    "        notyetoutput = self.wights_third(self.relu(preoutput))\n",
    "        output = self.wights_fourth(self.relu(notyetoutput))\n",
    "        \n",
    "        return output\n"
   ]
  },
  {
   "cell_type": "code",
   "execution_count": 11,
   "metadata": {},
   "outputs": [
    {
     "name": "stdout",
     "output_type": "stream",
     "text": [
      "Trainable params:  6550\n",
      "Total params:  6550\n"
     ]
    }
   ],
   "source": [
    "LAG_BACKWARD = 175\n",
    "LAG_FORWARD = 175\n",
    "\n",
    "\n",
    "BATCH_SIZE = 100\n",
    "\n",
    "model = SimpleNet(X_train.shape[1], Y_train.shape[1], LAG_BACKWARD, LAG_FORWARD)\n",
    "\n",
    "print(\"Trainable params: \",sum(p.numel() for p in model.parameters() if p.requires_grad))\n",
    "print(\"Total params: \",sum(p.numel() for p in model.parameters() if p.requires_grad))\n",
    "loss_function = nn.MSELoss()\n",
    "optimizer = torch.optim.Adam(model.parameters(), lr=0.0003)\n",
    "\n",
    "train_generator = data_generator(X_train, Y_train, BATCH_SIZE, LAG_BACKWARD, LAG_FORWARD, shuffle=True, infinite=True)\n",
    "test_generator = data_generator(X_test, Y_test, BATCH_SIZE, LAG_BACKWARD, LAG_FORWARD, shuffle=True, infinite=True)\n",
    "\n",
    "loss_history_train = []\n",
    "loss_history_test = []\n"
   ]
  },
  {
   "cell_type": "code",
   "execution_count": 12,
   "metadata": {},
   "outputs": [],
   "source": [
    "def process_batch(generator, is_train):\n",
    "    if is_train:\n",
    "        model.train()\n",
    "    else:\n",
    "        model.eval()\n",
    "\n",
    "    x_batch, y_batch = next(generator)\n",
    "    assert x_batch.shape[0] == y_batch.shape[0]\n",
    "    assert y_batch.shape[1] == 1\n",
    "    #assert x_batch.shape[1] == 30\n",
    "#    x_batch = torch.FloatTensor(x_batch).cuda()\n",
    "#    y_batch = torch.FloatTensor(y_batch).cuda()\n",
    "    x_batch = torch.FloatTensor(x_batch)\n",
    "    y_batch = torch.FloatTensor(y_batch)\n",
    "\n",
    "    if is_train:\n",
    "        optimizer.zero_grad()\n",
    "\n",
    "    y_predicted = model(x_batch)\n",
    "    loss = loss_function(y_predicted, y_batch)\n",
    "\n",
    "    if is_train:\n",
    "        loss.backward()\n",
    "        optimizer.step()\n",
    "\n",
    "\n",
    "    assert y_predicted.shape[0] == y_batch.shape[0]\n",
    "    assert y_predicted.shape[1] == y_batch.shape[1] == 1\n",
    "    \n",
    "    train_or_test = \"train\" if is_train else \"test\"\n",
    "\n",
    "    correlation = np.corrcoef(y_predicted.cpu().detach().numpy(), y_batch.cpu().detach().numpy(), rowvar=False)[0, 1]\n",
    "\n",
    "    #writer.add_scalar(f'{train_or_test}/loss', loss.cpu().detach().numpy(), iteration)\n",
    "    #writer.add_scalar(f'{train_or_test}/correlation', correlation, iteration)\n",
    "    \n",
    "    if is_train:\n",
    "        loss_history_train.append(correlation)\n",
    "    else:\n",
    "        loss_history_test.append(correlation)"
   ]
  },
  {
   "cell_type": "code",
   "execution_count": 13,
   "metadata": {},
   "outputs": [
    {
     "name": "stderr",
     "output_type": "stream",
     "text": [
      "  0%|                                                                                        | 0/30000 [00:00<?, ?it/s]<ipython-input-7-fa77fa0ca644>:20: FutureWarning: Using a non-tuple sequence for multidimensional indexing is deprecated; use `arr[tuple(seq)]` instead of `arr[seq]`. In the future this will be interpreted as an array index, `arr[np.array(seq)]`, which will result either in an error or a different result.\n",
      "  batch_y = Y[[batch_samples]]\n",
      "  0%|                                                                              | 6/30000 [00:02<2:17:37,  3.63it/s]"
     ]
    },
    {
     "name": "stdout",
     "output_type": "stream",
     "text": [
      "Train loss: -0.04856301161258295\n",
      "Test loss: 0.07225945747879485\n",
      "#\n"
     ]
    },
    {
     "name": "stderr",
     "output_type": "stream",
     "text": [
      "  1%|▋                                                                             | 257/30000 [00:07<11:07, 44.59it/s]"
     ]
    },
    {
     "name": "stdout",
     "output_type": "stream",
     "text": [
      "Train loss: 0.057922466294934465\n",
      "Test loss: 0.044076448362644884\n",
      "#\n"
     ]
    },
    {
     "name": "stderr",
     "output_type": "stream",
     "text": [
      "  2%|█▎                                                                            | 510/30000 [00:13<10:54, 45.05it/s]"
     ]
    },
    {
     "name": "stdout",
     "output_type": "stream",
     "text": [
      "Train loss: 0.11082926027869928\n",
      "Test loss: 0.09505563985844627\n",
      "#\n"
     ]
    },
    {
     "name": "stderr",
     "output_type": "stream",
     "text": [
      "  3%|█▉                                                                            | 756/30000 [00:18<11:04, 44.03it/s]"
     ]
    },
    {
     "name": "stdout",
     "output_type": "stream",
     "text": [
      "Train loss: 0.13959517795192097\n",
      "Test loss: 0.12865574368451063\n",
      "#\n"
     ]
    },
    {
     "name": "stderr",
     "output_type": "stream",
     "text": [
      "  3%|██▌                                                                          | 1005/30000 [00:24<11:41, 41.32it/s]"
     ]
    },
    {
     "name": "stdout",
     "output_type": "stream",
     "text": [
      "Train loss: 0.17232326824163657\n",
      "Test loss: 0.1662330573658129\n",
      "#\n"
     ]
    },
    {
     "name": "stderr",
     "output_type": "stream",
     "text": [
      "  4%|███▏                                                                         | 1256/30000 [00:30<10:53, 44.01it/s]"
     ]
    },
    {
     "name": "stdout",
     "output_type": "stream",
     "text": [
      "Train loss: 0.23743021991634475\n",
      "Test loss: 0.23235396934406546\n",
      "#\n"
     ]
    },
    {
     "name": "stderr",
     "output_type": "stream",
     "text": [
      "  5%|███▊                                                                         | 1508/30000 [00:36<11:27, 41.45it/s]"
     ]
    },
    {
     "name": "stdout",
     "output_type": "stream",
     "text": [
      "Train loss: 0.2807401449901994\n",
      "Test loss: 0.27812412262035036\n",
      "#\n"
     ]
    },
    {
     "name": "stderr",
     "output_type": "stream",
     "text": [
      "  6%|████▌                                                                        | 1756/30000 [00:42<11:30, 40.91it/s]"
     ]
    },
    {
     "name": "stdout",
     "output_type": "stream",
     "text": [
      "Train loss: 0.3228094712283115\n",
      "Test loss: 0.3128488948203441\n",
      "#\n"
     ]
    },
    {
     "name": "stderr",
     "output_type": "stream",
     "text": [
      "  7%|█████▏                                                                       | 2006/30000 [00:48<10:58, 42.51it/s]"
     ]
    },
    {
     "name": "stdout",
     "output_type": "stream",
     "text": [
      "Train loss: 0.34602678459159425\n",
      "Test loss: 0.3309097121532746\n",
      "#\n"
     ]
    },
    {
     "name": "stderr",
     "output_type": "stream",
     "text": [
      "  8%|█████▊                                                                       | 2255/30000 [00:54<11:11, 41.34it/s]"
     ]
    },
    {
     "name": "stdout",
     "output_type": "stream",
     "text": [
      "Train loss: 0.3589160991058142\n",
      "Test loss: 0.34117326324749364\n",
      "#\n"
     ]
    },
    {
     "name": "stderr",
     "output_type": "stream",
     "text": [
      "  8%|██████▍                                                                      | 2506/30000 [00:59<10:20, 44.30it/s]"
     ]
    },
    {
     "name": "stdout",
     "output_type": "stream",
     "text": [
      "Train loss: 0.3670420371232136\n",
      "Test loss: 0.3444847305101697\n",
      "#\n"
     ]
    },
    {
     "name": "stderr",
     "output_type": "stream",
     "text": [
      "  9%|███████                                                                      | 2758/30000 [01:05<10:05, 45.02it/s]"
     ]
    },
    {
     "name": "stdout",
     "output_type": "stream",
     "text": [
      "Train loss: 0.3716914136884642\n",
      "Test loss: 0.34841724454436324\n",
      "#\n"
     ]
    },
    {
     "name": "stderr",
     "output_type": "stream",
     "text": [
      " 10%|███████▋                                                                     | 3009/30000 [01:11<10:29, 42.87it/s]"
     ]
    },
    {
     "name": "stdout",
     "output_type": "stream",
     "text": [
      "Train loss: 0.3741037490056834\n",
      "Test loss: 0.3506449688369297\n",
      "#\n"
     ]
    },
    {
     "name": "stderr",
     "output_type": "stream",
     "text": [
      " 11%|████████▎                                                                    | 3258/30000 [01:17<10:15, 43.42it/s]"
     ]
    },
    {
     "name": "stdout",
     "output_type": "stream",
     "text": [
      "Train loss: 0.3769558070038464\n",
      "Test loss: 0.3551541410658626\n",
      "#\n"
     ]
    },
    {
     "name": "stderr",
     "output_type": "stream",
     "text": [
      " 12%|█████████                                                                    | 3507/30000 [01:23<10:18, 42.82it/s]"
     ]
    },
    {
     "name": "stdout",
     "output_type": "stream",
     "text": [
      "Train loss: 0.38112171695214125\n",
      "Test loss: 0.3611856001569619\n",
      "#\n"
     ]
    },
    {
     "name": "stderr",
     "output_type": "stream",
     "text": [
      " 13%|█████████▋                                                                   | 3756/30000 [01:28<09:39, 45.29it/s]"
     ]
    },
    {
     "name": "stdout",
     "output_type": "stream",
     "text": [
      "Train loss: 0.3813326814532098\n",
      "Test loss: 0.36658656873290785\n",
      "#\n"
     ]
    },
    {
     "name": "stderr",
     "output_type": "stream",
     "text": [
      " 13%|██████████▎                                                                  | 4007/30000 [01:34<09:58, 43.47it/s]"
     ]
    },
    {
     "name": "stdout",
     "output_type": "stream",
     "text": [
      "Train loss: 0.3863763384029892\n",
      "Test loss: 0.3667415763041363\n",
      "#\n"
     ]
    },
    {
     "name": "stderr",
     "output_type": "stream",
     "text": [
      " 14%|██████████▉                                                                  | 4256/30000 [01:40<10:33, 40.62it/s]"
     ]
    },
    {
     "name": "stdout",
     "output_type": "stream",
     "text": [
      "Train loss: 0.38895308516529603\n",
      "Test loss: 0.36352970608362284\n",
      "#\n"
     ]
    },
    {
     "name": "stderr",
     "output_type": "stream",
     "text": [
      " 15%|███████████▌                                                                 | 4505/30000 [01:46<10:59, 38.63it/s]"
     ]
    },
    {
     "name": "stdout",
     "output_type": "stream",
     "text": [
      "Train loss: 0.3883616453349099\n",
      "Test loss: 0.3625065223179724\n",
      "#\n"
     ]
    },
    {
     "name": "stderr",
     "output_type": "stream",
     "text": [
      " 16%|████████████▏                                                                | 4757/30000 [01:52<10:41, 39.33it/s]"
     ]
    },
    {
     "name": "stdout",
     "output_type": "stream",
     "text": [
      "Train loss: 0.3918445463165967\n",
      "Test loss: 0.36194330112861517\n",
      "#\n"
     ]
    },
    {
     "name": "stderr",
     "output_type": "stream",
     "text": [
      " 17%|████████████▊                                                                | 5007/30000 [01:58<10:40, 38.99it/s]"
     ]
    },
    {
     "name": "stdout",
     "output_type": "stream",
     "text": [
      "Train loss: 0.3950923925859805\n",
      "Test loss: 0.3641189870973452\n",
      "#\n"
     ]
    },
    {
     "name": "stderr",
     "output_type": "stream",
     "text": [
      " 18%|█████████████▍                                                               | 5258/30000 [02:04<09:58, 41.34it/s]"
     ]
    },
    {
     "name": "stdout",
     "output_type": "stream",
     "text": [
      "Train loss: 0.39916812598651097\n",
      "Test loss: 0.3675834771270247\n",
      "#\n"
     ]
    },
    {
     "name": "stderr",
     "output_type": "stream",
     "text": [
      " 18%|██████████████▏                                                              | 5505/30000 [02:10<09:55, 41.14it/s]"
     ]
    },
    {
     "name": "stdout",
     "output_type": "stream",
     "text": [
      "Train loss: 0.4031989606229842\n",
      "Test loss: 0.36841508943670487\n",
      "#\n"
     ]
    },
    {
     "name": "stderr",
     "output_type": "stream",
     "text": [
      " 19%|██████████████▊                                                              | 5755/30000 [02:16<09:40, 41.74it/s]"
     ]
    },
    {
     "name": "stdout",
     "output_type": "stream",
     "text": [
      "Train loss: 0.4035293461309285\n",
      "Test loss: 0.3684647655352229\n",
      "#\n"
     ]
    },
    {
     "name": "stderr",
     "output_type": "stream",
     "text": [
      " 20%|███████████████▍                                                             | 6008/30000 [02:22<09:19, 42.89it/s]"
     ]
    },
    {
     "name": "stdout",
     "output_type": "stream",
     "text": [
      "Train loss: 0.4066294213337457\n",
      "Test loss: 0.36714973074509083\n",
      "#\n"
     ]
    },
    {
     "name": "stderr",
     "output_type": "stream",
     "text": [
      " 21%|████████████████                                                             | 6259/30000 [02:28<09:21, 42.31it/s]"
     ]
    },
    {
     "name": "stdout",
     "output_type": "stream",
     "text": [
      "Train loss: 0.40624326220142376\n",
      "Test loss: 0.36925236127932165\n",
      "#\n"
     ]
    },
    {
     "name": "stderr",
     "output_type": "stream",
     "text": [
      " 22%|████████████████▋                                                            | 6507/30000 [02:34<09:36, 40.72it/s]"
     ]
    },
    {
     "name": "stdout",
     "output_type": "stream",
     "text": [
      "Train loss: 0.40896510180745327\n",
      "Test loss: 0.37037033277798936\n",
      "#\n"
     ]
    },
    {
     "name": "stderr",
     "output_type": "stream",
     "text": [
      " 23%|█████████████████▎                                                           | 6759/30000 [02:40<08:49, 43.89it/s]"
     ]
    },
    {
     "name": "stdout",
     "output_type": "stream",
     "text": [
      "Train loss: 0.4115356933025656\n",
      "Test loss: 0.37406599170173194\n",
      "#\n"
     ]
    },
    {
     "name": "stderr",
     "output_type": "stream",
     "text": [
      " 23%|█████████████████▉                                                           | 7008/30000 [02:46<09:11, 41.72it/s]"
     ]
    },
    {
     "name": "stdout",
     "output_type": "stream",
     "text": [
      "Train loss: 0.4108164931278124\n",
      "Test loss: 0.3745467691146704\n",
      "#\n"
     ]
    },
    {
     "name": "stderr",
     "output_type": "stream",
     "text": [
      " 24%|██████████████████▋                                                          | 7259/30000 [02:52<09:08, 41.47it/s]"
     ]
    },
    {
     "name": "stdout",
     "output_type": "stream",
     "text": [
      "Train loss: 0.41645423999401276\n",
      "Test loss: 0.3726213058681048\n",
      "#\n"
     ]
    },
    {
     "name": "stderr",
     "output_type": "stream",
     "text": [
      " 25%|███████████████████▎                                                         | 7506/30000 [02:58<08:29, 44.12it/s]"
     ]
    },
    {
     "name": "stdout",
     "output_type": "stream",
     "text": [
      "Train loss: 0.4153190476231553\n",
      "Test loss: 0.37145552214906713\n",
      "#\n"
     ]
    },
    {
     "name": "stderr",
     "output_type": "stream",
     "text": [
      " 26%|███████████████████▉                                                         | 7758/30000 [03:04<08:52, 41.81it/s]"
     ]
    },
    {
     "name": "stdout",
     "output_type": "stream",
     "text": [
      "Train loss: 0.4162883434431452\n",
      "Test loss: 0.36596404857112613\n",
      "#\n"
     ]
    },
    {
     "name": "stderr",
     "output_type": "stream",
     "text": [
      " 27%|████████████████████▌                                                        | 8007/30000 [03:10<08:13, 44.55it/s]"
     ]
    },
    {
     "name": "stdout",
     "output_type": "stream",
     "text": [
      "Train loss: 0.41674031445190474\n",
      "Test loss: 0.36592926583332847\n",
      "#\n"
     ]
    },
    {
     "name": "stderr",
     "output_type": "stream",
     "text": [
      " 28%|█████████████████████▏                                                       | 8256/30000 [03:16<08:42, 41.59it/s]"
     ]
    },
    {
     "name": "stdout",
     "output_type": "stream",
     "text": [
      "Train loss: 0.4166524665170731\n",
      "Test loss: 0.367557586458527\n",
      "#\n"
     ]
    },
    {
     "name": "stderr",
     "output_type": "stream",
     "text": [
      " 28%|█████████████████████▊                                                       | 8507/30000 [03:22<08:38, 41.46it/s]"
     ]
    },
    {
     "name": "stdout",
     "output_type": "stream",
     "text": [
      "Train loss: 0.41813763549133054\n",
      "Test loss: 0.37145891152124394\n",
      "#\n"
     ]
    },
    {
     "name": "stderr",
     "output_type": "stream",
     "text": [
      " 29%|██████████████████████▍                                                      | 8756/30000 [03:27<07:55, 44.64it/s]"
     ]
    },
    {
     "name": "stdout",
     "output_type": "stream",
     "text": [
      "Train loss: 0.41662663291133184\n",
      "Test loss: 0.375573034343362\n",
      "#\n"
     ]
    },
    {
     "name": "stderr",
     "output_type": "stream",
     "text": [
      " 30%|███████████████████████                                                      | 9008/30000 [03:33<08:30, 41.14it/s]"
     ]
    },
    {
     "name": "stdout",
     "output_type": "stream",
     "text": [
      "Train loss: 0.41736057324555315\n",
      "Test loss: 0.3776243030126644\n",
      "#\n"
     ]
    },
    {
     "name": "stderr",
     "output_type": "stream",
     "text": [
      " 31%|███████████████████████▊                                                     | 9259/30000 [03:39<08:04, 42.81it/s]"
     ]
    },
    {
     "name": "stdout",
     "output_type": "stream",
     "text": [
      "Train loss: 0.41552316653864774\n",
      "Test loss: 0.3815884359906541\n",
      "#\n"
     ]
    },
    {
     "name": "stderr",
     "output_type": "stream",
     "text": [
      " 32%|████████████████████████▍                                                    | 9506/30000 [03:45<08:01, 42.52it/s]"
     ]
    },
    {
     "name": "stdout",
     "output_type": "stream",
     "text": [
      "Train loss: 0.41783536275276717\n",
      "Test loss: 0.3850534049544066\n",
      "#\n"
     ]
    },
    {
     "name": "stderr",
     "output_type": "stream",
     "text": [
      " 33%|█████████████████████████                                                    | 9757/30000 [03:51<08:00, 42.10it/s]"
     ]
    },
    {
     "name": "stdout",
     "output_type": "stream",
     "text": [
      "Train loss: 0.423673618785492\n",
      "Test loss: 0.3844572446409105\n",
      "#\n"
     ]
    },
    {
     "name": "stderr",
     "output_type": "stream",
     "text": [
      " 33%|█████████████████████████▎                                                  | 10005/30000 [03:57<07:44, 43.01it/s]"
     ]
    },
    {
     "name": "stdout",
     "output_type": "stream",
     "text": [
      "Train loss: 0.4219788261435071\n",
      "Test loss: 0.38534436728276605\n",
      "#\n"
     ]
    },
    {
     "name": "stderr",
     "output_type": "stream",
     "text": [
      " 34%|█████████████████████████▉                                                  | 10255/30000 [04:03<08:16, 39.78it/s]"
     ]
    },
    {
     "name": "stdout",
     "output_type": "stream",
     "text": [
      "Train loss: 0.42277169301967665\n",
      "Test loss: 0.38147081582729925\n",
      "#\n"
     ]
    },
    {
     "name": "stderr",
     "output_type": "stream",
     "text": [
      " 35%|██████████████████████████▌                                                 | 10508/30000 [04:09<07:44, 41.99it/s]"
     ]
    },
    {
     "name": "stdout",
     "output_type": "stream",
     "text": [
      "Train loss: 0.42369986011777394\n",
      "Test loss: 0.381449728543827\n",
      "#\n"
     ]
    },
    {
     "name": "stderr",
     "output_type": "stream",
     "text": [
      " 36%|███████████████████████████▎                                                | 10758/30000 [04:15<07:57, 40.26it/s]"
     ]
    },
    {
     "name": "stdout",
     "output_type": "stream",
     "text": [
      "Train loss: 0.4213369311624152\n",
      "Test loss: 0.38681225310505646\n",
      "#\n"
     ]
    },
    {
     "name": "stderr",
     "output_type": "stream",
     "text": [
      " 37%|███████████████████████████▉                                                | 11005/30000 [04:21<09:12, 34.35it/s]"
     ]
    },
    {
     "name": "stdout",
     "output_type": "stream",
     "text": [
      "Train loss: 0.4236102269532886\n",
      "Test loss: 0.3892444848222617\n",
      "#\n"
     ]
    },
    {
     "name": "stderr",
     "output_type": "stream",
     "text": [
      " 38%|████████████████████████████▌                                               | 11257/30000 [04:28<07:46, 40.21it/s]"
     ]
    },
    {
     "name": "stdout",
     "output_type": "stream",
     "text": [
      "Train loss: 0.42078990348946965\n",
      "Test loss: 0.39201972352907466\n",
      "#\n"
     ]
    },
    {
     "name": "stderr",
     "output_type": "stream",
     "text": [
      " 38%|█████████████████████████████▏                                              | 11508/30000 [04:34<07:10, 42.96it/s]"
     ]
    },
    {
     "name": "stdout",
     "output_type": "stream",
     "text": [
      "Train loss: 0.4218302670516424\n",
      "Test loss: 0.3912562562850611\n",
      "#\n"
     ]
    },
    {
     "name": "stderr",
     "output_type": "stream",
     "text": [
      " 39%|█████████████████████████████▊                                              | 11756/30000 [04:40<07:11, 42.33it/s]"
     ]
    },
    {
     "name": "stdout",
     "output_type": "stream",
     "text": [
      "Train loss: 0.42068926552584823\n",
      "Test loss: 0.3872957912544249\n",
      "#\n"
     ]
    },
    {
     "name": "stderr",
     "output_type": "stream",
     "text": [
      " 40%|██████████████████████████████▍                                             | 12006/30000 [04:45<07:13, 41.50it/s]"
     ]
    },
    {
     "name": "stdout",
     "output_type": "stream",
     "text": [
      "Train loss: 0.4189864298319534\n",
      "Test loss: 0.3871345272895709\n",
      "#\n"
     ]
    },
    {
     "name": "stderr",
     "output_type": "stream",
     "text": [
      " 41%|███████████████████████████████                                             | 12257/30000 [04:52<07:35, 38.91it/s]"
     ]
    },
    {
     "name": "stdout",
     "output_type": "stream",
     "text": [
      "Train loss: 0.4238863098155694\n",
      "Test loss: 0.3861019757963721\n",
      "#\n"
     ]
    },
    {
     "name": "stderr",
     "output_type": "stream",
     "text": [
      " 42%|███████████████████████████████▋                                            | 12504/30000 [04:57<07:35, 38.43it/s]"
     ]
    },
    {
     "name": "stdout",
     "output_type": "stream",
     "text": [
      "Train loss: 0.4233858014266601\n",
      "Test loss: 0.384604034744049\n",
      "#\n"
     ]
    },
    {
     "name": "stderr",
     "output_type": "stream",
     "text": [
      " 43%|████████████████████████████████▎                                           | 12759/30000 [05:03<07:02, 40.79it/s]"
     ]
    },
    {
     "name": "stdout",
     "output_type": "stream",
     "text": [
      "Train loss: 0.42731689852732296\n",
      "Test loss: 0.3858439946020026\n",
      "#\n"
     ]
    },
    {
     "name": "stderr",
     "output_type": "stream",
     "text": [
      " 43%|████████████████████████████████▉                                           | 13004/30000 [05:09<06:34, 43.12it/s]"
     ]
    },
    {
     "name": "stdout",
     "output_type": "stream",
     "text": [
      "Train loss: 0.4288635760822052\n",
      "Test loss: 0.38717037264018245\n",
      "#\n"
     ]
    },
    {
     "name": "stderr",
     "output_type": "stream",
     "text": [
      " 44%|█████████████████████████████████▌                                          | 13259/30000 [05:15<06:58, 39.98it/s]"
     ]
    },
    {
     "name": "stdout",
     "output_type": "stream",
     "text": [
      "Train loss: 0.4277960107338823\n",
      "Test loss: 0.3885678239764352\n",
      "#\n"
     ]
    },
    {
     "name": "stderr",
     "output_type": "stream",
     "text": [
      " 45%|██████████████████████████████████▏                                         | 13507/30000 [05:21<06:33, 41.96it/s]"
     ]
    },
    {
     "name": "stdout",
     "output_type": "stream",
     "text": [
      "Train loss: 0.4312609295429361\n",
      "Test loss: 0.39011993316878646\n",
      "#\n"
     ]
    },
    {
     "name": "stderr",
     "output_type": "stream",
     "text": [
      " 46%|██████████████████████████████████▊                                         | 13758/30000 [05:27<06:35, 41.06it/s]"
     ]
    },
    {
     "name": "stdout",
     "output_type": "stream",
     "text": [
      "Train loss: 0.43008390238836813\n",
      "Test loss: 0.38962578485100746\n",
      "#\n"
     ]
    },
    {
     "name": "stderr",
     "output_type": "stream",
     "text": [
      " 47%|███████████████████████████████████▍                                        | 14008/30000 [05:33<06:25, 41.54it/s]"
     ]
    },
    {
     "name": "stdout",
     "output_type": "stream",
     "text": [
      "Train loss: 0.42951248058366387\n",
      "Test loss: 0.38726357604740247\n",
      "#\n"
     ]
    },
    {
     "name": "stderr",
     "output_type": "stream",
     "text": [
      " 48%|████████████████████████████████████▏                                       | 14260/30000 [05:39<06:04, 43.18it/s]"
     ]
    },
    {
     "name": "stdout",
     "output_type": "stream",
     "text": [
      "Train loss: 0.4290672909988888\n",
      "Test loss: 0.3875054659966464\n",
      "#\n"
     ]
    },
    {
     "name": "stderr",
     "output_type": "stream",
     "text": [
      " 48%|████████████████████████████████████▊                                       | 14510/30000 [05:45<05:39, 45.63it/s]"
     ]
    },
    {
     "name": "stdout",
     "output_type": "stream",
     "text": [
      "Train loss: 0.42538338651636937\n",
      "Test loss: 0.38788568917977717\n",
      "#\n"
     ]
    },
    {
     "name": "stderr",
     "output_type": "stream",
     "text": [
      " 49%|█████████████████████████████████████▍                                      | 14758/30000 [05:51<06:06, 41.61it/s]"
     ]
    },
    {
     "name": "stdout",
     "output_type": "stream",
     "text": [
      "Train loss: 0.42585946052934853\n",
      "Test loss: 0.3897928726390274\n",
      "#\n"
     ]
    },
    {
     "name": "stderr",
     "output_type": "stream",
     "text": [
      " 50%|██████████████████████████████████████                                      | 15007/30000 [05:56<05:41, 43.97it/s]"
     ]
    },
    {
     "name": "stdout",
     "output_type": "stream",
     "text": [
      "Train loss: 0.4275677317408414\n",
      "Test loss: 0.3906758440025462\n",
      "#\n"
     ]
    },
    {
     "name": "stderr",
     "output_type": "stream",
     "text": [
      " 51%|██████████████████████████████████████▋                                     | 15258/30000 [06:02<05:28, 44.88it/s]"
     ]
    },
    {
     "name": "stdout",
     "output_type": "stream",
     "text": [
      "Train loss: 0.4253133344008349\n",
      "Test loss: 0.3923643671412575\n",
      "#\n"
     ]
    },
    {
     "name": "stderr",
     "output_type": "stream",
     "text": [
      " 52%|███████████████████████████████████████▎                                    | 15510/30000 [06:08<05:24, 44.63it/s]"
     ]
    },
    {
     "name": "stdout",
     "output_type": "stream",
     "text": [
      "Train loss: 0.42484416108243395\n",
      "Test loss: 0.39016968790656825\n",
      "#\n"
     ]
    },
    {
     "name": "stderr",
     "output_type": "stream",
     "text": [
      " 53%|███████████████████████████████████████▉                                    | 15757/30000 [06:14<05:36, 42.34it/s]"
     ]
    },
    {
     "name": "stdout",
     "output_type": "stream",
     "text": [
      "Train loss: 0.4256651813480279\n",
      "Test loss: 0.39095683443444956\n",
      "#\n"
     ]
    },
    {
     "name": "stderr",
     "output_type": "stream",
     "text": [
      " 53%|████████████████████████████████████████▌                                   | 16005/30000 [06:20<05:28, 42.64it/s]"
     ]
    },
    {
     "name": "stdout",
     "output_type": "stream",
     "text": [
      "Train loss: 0.4295420241143432\n",
      "Test loss: 0.3928541308650208\n",
      "#\n"
     ]
    },
    {
     "name": "stderr",
     "output_type": "stream",
     "text": [
      " 54%|█████████████████████████████████████████▏                                  | 16258/30000 [06:25<05:06, 44.87it/s]"
     ]
    },
    {
     "name": "stdout",
     "output_type": "stream",
     "text": [
      "Train loss: 0.4340181578265715\n",
      "Test loss: 0.39328212842550747\n",
      "#\n"
     ]
    },
    {
     "name": "stderr",
     "output_type": "stream",
     "text": [
      " 55%|█████████████████████████████████████████▊                                  | 16506/30000 [06:31<05:19, 42.27it/s]"
     ]
    },
    {
     "name": "stdout",
     "output_type": "stream",
     "text": [
      "Train loss: 0.4385591421047339\n",
      "Test loss: 0.3973796285176155\n",
      "#\n"
     ]
    },
    {
     "name": "stderr",
     "output_type": "stream",
     "text": [
      " 56%|██████████████████████████████████████████▍                                 | 16754/30000 [06:37<05:16, 41.90it/s]"
     ]
    },
    {
     "name": "stdout",
     "output_type": "stream",
     "text": [
      "Train loss: 0.43978406711641244\n",
      "Test loss: 0.39905903705391305\n",
      "#\n"
     ]
    },
    {
     "name": "stderr",
     "output_type": "stream",
     "text": [
      " 57%|███████████████████████████████████████████                                 | 17008/30000 [06:43<05:03, 42.77it/s]"
     ]
    },
    {
     "name": "stdout",
     "output_type": "stream",
     "text": [
      "Train loss: 0.4364149978593159\n",
      "Test loss: 0.403871869054729\n",
      "#\n"
     ]
    },
    {
     "name": "stderr",
     "output_type": "stream",
     "text": [
      " 58%|███████████████████████████████████████████▋                                | 17257/30000 [06:49<04:57, 42.76it/s]"
     ]
    },
    {
     "name": "stdout",
     "output_type": "stream",
     "text": [
      "Train loss: 0.4376409751208646\n",
      "Test loss: 0.4011265917615143\n",
      "#\n"
     ]
    },
    {
     "name": "stderr",
     "output_type": "stream",
     "text": [
      " 58%|████████████████████████████████████████████▎                               | 17507/30000 [06:55<04:53, 42.51it/s]"
     ]
    },
    {
     "name": "stdout",
     "output_type": "stream",
     "text": [
      "Train loss: 0.4382987864454452\n",
      "Test loss: 0.4009472040116687\n",
      "#\n"
     ]
    },
    {
     "name": "stderr",
     "output_type": "stream",
     "text": [
      " 59%|████████████████████████████████████████████▉                               | 17758/30000 [07:01<04:53, 41.68it/s]"
     ]
    },
    {
     "name": "stdout",
     "output_type": "stream",
     "text": [
      "Train loss: 0.4377154221350538\n",
      "Test loss: 0.3997577315173744\n",
      "#\n"
     ]
    },
    {
     "name": "stderr",
     "output_type": "stream",
     "text": [
      " 60%|█████████████████████████████████████████████▌                              | 18006/30000 [07:06<04:35, 43.51it/s]"
     ]
    },
    {
     "name": "stdout",
     "output_type": "stream",
     "text": [
      "Train loss: 0.442192559108792\n",
      "Test loss: 0.3986454512932129\n",
      "#\n"
     ]
    },
    {
     "name": "stderr",
     "output_type": "stream",
     "text": [
      " 61%|██████████████████████████████████████████████▏                             | 18256/30000 [07:12<04:21, 44.84it/s]"
     ]
    },
    {
     "name": "stdout",
     "output_type": "stream",
     "text": [
      "Train loss: 0.44316260960702164\n",
      "Test loss: 0.40431422020696245\n",
      "#\n"
     ]
    },
    {
     "name": "stderr",
     "output_type": "stream",
     "text": [
      " 62%|██████████████████████████████████████████████▉                             | 18506/30000 [07:18<04:44, 40.38it/s]"
     ]
    },
    {
     "name": "stdout",
     "output_type": "stream",
     "text": [
      "Train loss: 0.44256324410930137\n",
      "Test loss: 0.40756577949186307\n",
      "#\n"
     ]
    },
    {
     "name": "stderr",
     "output_type": "stream",
     "text": [
      " 63%|███████████████████████████████████████████████▌                            | 18756/30000 [07:24<04:12, 44.61it/s]"
     ]
    },
    {
     "name": "stdout",
     "output_type": "stream",
     "text": [
      "Train loss: 0.4448598734032759\n",
      "Test loss: 0.4070741638808115\n",
      "#\n"
     ]
    },
    {
     "name": "stderr",
     "output_type": "stream",
     "text": [
      " 63%|████████████████████████████████████████████████▏                           | 19010/30000 [07:30<04:18, 42.51it/s]"
     ]
    },
    {
     "name": "stdout",
     "output_type": "stream",
     "text": [
      "Train loss: 0.4436723752654116\n",
      "Test loss: 0.4046452319828493\n",
      "#\n"
     ]
    },
    {
     "name": "stderr",
     "output_type": "stream",
     "text": [
      " 64%|████████████████████████████████████████████████▊                           | 19256/30000 [07:36<04:30, 39.72it/s]"
     ]
    },
    {
     "name": "stdout",
     "output_type": "stream",
     "text": [
      "Train loss: 0.442643538182761\n",
      "Test loss: 0.40348002219833834\n",
      "#\n"
     ]
    },
    {
     "name": "stderr",
     "output_type": "stream",
     "text": [
      " 65%|█████████████████████████████████████████████████▍                          | 19506/30000 [07:42<04:11, 41.76it/s]"
     ]
    },
    {
     "name": "stdout",
     "output_type": "stream",
     "text": [
      "Train loss: 0.4435403332289469\n",
      "Test loss: 0.39804072701339577\n",
      "#\n"
     ]
    },
    {
     "name": "stderr",
     "output_type": "stream",
     "text": [
      " 66%|██████████████████████████████████████████████████                          | 19757/30000 [07:47<03:58, 42.94it/s]"
     ]
    },
    {
     "name": "stdout",
     "output_type": "stream",
     "text": [
      "Train loss: 0.44257784513481035\n",
      "Test loss: 0.3997653302629577\n",
      "#\n"
     ]
    },
    {
     "name": "stderr",
     "output_type": "stream",
     "text": [
      " 67%|██████████████████████████████████████████████████▋                         | 20006/30000 [07:54<03:50, 43.45it/s]"
     ]
    },
    {
     "name": "stdout",
     "output_type": "stream",
     "text": [
      "Train loss: 0.4431038746908228\n",
      "Test loss: 0.40036548497894753\n",
      "#\n"
     ]
    },
    {
     "name": "stderr",
     "output_type": "stream",
     "text": [
      " 68%|███████████████████████████████████████████████████▎                        | 20255/30000 [07:59<04:05, 39.62it/s]"
     ]
    },
    {
     "name": "stdout",
     "output_type": "stream",
     "text": [
      "Train loss: 0.4428152336476835\n",
      "Test loss: 0.4004764268959308\n",
      "#\n"
     ]
    },
    {
     "name": "stderr",
     "output_type": "stream",
     "text": [
      " 68%|███████████████████████████████████████████████████▉                        | 20506/30000 [08:05<03:31, 44.93it/s]"
     ]
    },
    {
     "name": "stdout",
     "output_type": "stream",
     "text": [
      "Train loss: 0.4428777775175316\n",
      "Test loss: 0.4020515842170331\n",
      "#\n"
     ]
    },
    {
     "name": "stderr",
     "output_type": "stream",
     "text": [
      " 69%|████████████████████████████████████████████████████▌                       | 20758/30000 [08:11<03:32, 43.55it/s]"
     ]
    },
    {
     "name": "stdout",
     "output_type": "stream",
     "text": [
      "Train loss: 0.44376716868790494\n",
      "Test loss: 0.4039156670388124\n",
      "#\n"
     ]
    },
    {
     "name": "stderr",
     "output_type": "stream",
     "text": [
      " 70%|█████████████████████████████████████████████████████▏                      | 21006/30000 [08:17<03:31, 42.54it/s]"
     ]
    },
    {
     "name": "stdout",
     "output_type": "stream",
     "text": [
      "Train loss: 0.4440264411675479\n",
      "Test loss: 0.40297072917959237\n",
      "#\n"
     ]
    },
    {
     "name": "stderr",
     "output_type": "stream",
     "text": [
      " 71%|█████████████████████████████████████████████████████▊                      | 21257/30000 [08:23<03:28, 41.88it/s]"
     ]
    },
    {
     "name": "stdout",
     "output_type": "stream",
     "text": [
      "Train loss: 0.4482049974765737\n",
      "Test loss: 0.4020819216403286\n",
      "#\n"
     ]
    },
    {
     "name": "stderr",
     "output_type": "stream",
     "text": [
      " 72%|██████████████████████████████████████████████████████▍                     | 21506/30000 [08:28<03:14, 43.61it/s]"
     ]
    },
    {
     "name": "stdout",
     "output_type": "stream",
     "text": [
      "Train loss: 0.4467146812799636\n",
      "Test loss: 0.4024690559781958\n",
      "#\n"
     ]
    },
    {
     "name": "stderr",
     "output_type": "stream",
     "text": [
      " 73%|███████████████████████████████████████████████████████                     | 21757/30000 [08:34<03:17, 41.79it/s]"
     ]
    },
    {
     "name": "stdout",
     "output_type": "stream",
     "text": [
      "Train loss: 0.4490088867196066\n",
      "Test loss: 0.40081923231832517\n",
      "#\n"
     ]
    },
    {
     "name": "stderr",
     "output_type": "stream",
     "text": [
      " 73%|███████████████████████████████████████████████████████▋                    | 22006/30000 [08:40<03:02, 43.79it/s]"
     ]
    },
    {
     "name": "stdout",
     "output_type": "stream",
     "text": [
      "Train loss: 0.4497831430999759\n",
      "Test loss: 0.4009823965085928\n",
      "#\n"
     ]
    },
    {
     "name": "stderr",
     "output_type": "stream",
     "text": [
      " 74%|████████████████████████████████████████████████████████▍                   | 22255/30000 [08:46<03:14, 39.85it/s]"
     ]
    },
    {
     "name": "stdout",
     "output_type": "stream",
     "text": [
      "Train loss: 0.44740913992176484\n",
      "Test loss: 0.40270848270825466\n",
      "#\n"
     ]
    },
    {
     "name": "stderr",
     "output_type": "stream",
     "text": [
      " 75%|█████████████████████████████████████████████████████████                   | 22507/30000 [08:52<02:52, 43.48it/s]"
     ]
    },
    {
     "name": "stdout",
     "output_type": "stream",
     "text": [
      "Train loss: 0.4474398989663352\n",
      "Test loss: 0.40590555692071884\n",
      "#\n"
     ]
    },
    {
     "name": "stderr",
     "output_type": "stream",
     "text": [
      " 76%|█████████████████████████████████████████████████████████▋                  | 22759/30000 [08:58<02:56, 41.11it/s]"
     ]
    },
    {
     "name": "stdout",
     "output_type": "stream",
     "text": [
      "Train loss: 0.44535253351063236\n",
      "Test loss: 0.40625797778886763\n",
      "#\n"
     ]
    },
    {
     "name": "stderr",
     "output_type": "stream",
     "text": [
      " 77%|██████████████████████████████████████████████████████████▎                 | 23007/30000 [09:03<02:41, 43.29it/s]"
     ]
    },
    {
     "name": "stdout",
     "output_type": "stream",
     "text": [
      "Train loss: 0.4470354204514084\n",
      "Test loss: 0.4083159774980762\n",
      "#\n"
     ]
    },
    {
     "name": "stderr",
     "output_type": "stream",
     "text": [
      " 78%|██████████████████████████████████████████████████████████▉                 | 23258/30000 [09:09<02:41, 41.87it/s]"
     ]
    },
    {
     "name": "stdout",
     "output_type": "stream",
     "text": [
      "Train loss: 0.4461109815074819\n",
      "Test loss: 0.4119238737663659\n",
      "#\n"
     ]
    },
    {
     "name": "stderr",
     "output_type": "stream",
     "text": [
      " 78%|███████████████████████████████████████████████████████████▌                | 23505/30000 [09:15<02:32, 42.55it/s]"
     ]
    },
    {
     "name": "stdout",
     "output_type": "stream",
     "text": [
      "Train loss: 0.4489645864505193\n",
      "Test loss: 0.4113583145163346\n",
      "#\n"
     ]
    },
    {
     "name": "stderr",
     "output_type": "stream",
     "text": [
      " 79%|████████████████████████████████████████████████████████████▏               | 23757/30000 [09:21<02:25, 42.88it/s]"
     ]
    },
    {
     "name": "stdout",
     "output_type": "stream",
     "text": [
      "Train loss: 0.4497536380990287\n",
      "Test loss: 0.4119663155729256\n",
      "#\n"
     ]
    },
    {
     "name": "stderr",
     "output_type": "stream",
     "text": [
      " 80%|████████████████████████████████████████████████████████████▊               | 24009/30000 [09:27<02:19, 42.90it/s]"
     ]
    },
    {
     "name": "stdout",
     "output_type": "stream",
     "text": [
      "Train loss: 0.44866613257757176\n",
      "Test loss: 0.41397846433358426\n",
      "#\n"
     ]
    },
    {
     "name": "stderr",
     "output_type": "stream",
     "text": [
      " 81%|█████████████████████████████████████████████████████████████▍              | 24259/30000 [09:33<02:06, 45.28it/s]"
     ]
    },
    {
     "name": "stdout",
     "output_type": "stream",
     "text": [
      "Train loss: 0.45036414126846164\n",
      "Test loss: 0.40907752644661216\n",
      "#\n"
     ]
    },
    {
     "name": "stderr",
     "output_type": "stream",
     "text": [
      " 82%|██████████████████████████████████████████████████████████████              | 24508/30000 [09:38<02:13, 41.28it/s]"
     ]
    },
    {
     "name": "stdout",
     "output_type": "stream",
     "text": [
      "Train loss: 0.4526510189193373\n",
      "Test loss: 0.40466288054157973\n",
      "#\n"
     ]
    },
    {
     "name": "stderr",
     "output_type": "stream",
     "text": [
      " 83%|██████████████████████████████████████████████████████████████▋             | 24758/30000 [09:44<02:18, 37.83it/s]"
     ]
    },
    {
     "name": "stdout",
     "output_type": "stream",
     "text": [
      "Train loss: 0.45239963898294\n",
      "Test loss: 0.4034400648659613\n",
      "#\n"
     ]
    },
    {
     "name": "stderr",
     "output_type": "stream",
     "text": [
      " 83%|███████████████████████████████████████████████████████████████▎            | 25005/30000 [09:50<01:57, 42.44it/s]"
     ]
    },
    {
     "name": "stdout",
     "output_type": "stream",
     "text": [
      "Train loss: 0.4497171856876145\n",
      "Test loss: 0.40040716943959265\n",
      "#\n"
     ]
    },
    {
     "name": "stderr",
     "output_type": "stream",
     "text": [
      " 84%|███████████████████████████████████████████████████████████████▉            | 25256/30000 [09:57<02:04, 38.17it/s]"
     ]
    },
    {
     "name": "stdout",
     "output_type": "stream",
     "text": [
      "Train loss: 0.4522305293532488\n",
      "Test loss: 0.4016859545618835\n",
      "#\n"
     ]
    },
    {
     "name": "stderr",
     "output_type": "stream",
     "text": [
      " 85%|████████████████████████████████████████████████████████████████▌           | 25505/30000 [10:03<02:04, 36.19it/s]"
     ]
    },
    {
     "name": "stdout",
     "output_type": "stream",
     "text": [
      "Train loss: 0.4517824055214178\n",
      "Test loss: 0.40610501925496395\n",
      "#\n"
     ]
    },
    {
     "name": "stderr",
     "output_type": "stream",
     "text": [
      " 86%|█████████████████████████████████████████████████████████████████▎          | 25759/30000 [10:09<01:37, 43.66it/s]"
     ]
    },
    {
     "name": "stdout",
     "output_type": "stream",
     "text": [
      "Train loss: 0.4507861489048503\n",
      "Test loss: 0.4073383088449545\n",
      "#\n"
     ]
    },
    {
     "name": "stderr",
     "output_type": "stream",
     "text": [
      " 87%|█████████████████████████████████████████████████████████████████▉          | 26010/30000 [10:15<01:33, 42.84it/s]"
     ]
    },
    {
     "name": "stdout",
     "output_type": "stream",
     "text": [
      "Train loss: 0.45444273011406716\n",
      "Test loss: 0.4111964095967091\n",
      "#\n"
     ]
    },
    {
     "name": "stderr",
     "output_type": "stream",
     "text": [
      " 88%|██████████████████████████████████████████████████████████████████▌         | 26256/30000 [10:20<01:26, 43.52it/s]"
     ]
    },
    {
     "name": "stdout",
     "output_type": "stream",
     "text": [
      "Train loss: 0.45184835721050454\n",
      "Test loss: 0.4084088884939822\n",
      "#\n"
     ]
    },
    {
     "name": "stderr",
     "output_type": "stream",
     "text": [
      " 88%|███████████████████████████████████████████████████████████████████▏        | 26508/30000 [10:26<01:20, 43.45it/s]"
     ]
    },
    {
     "name": "stdout",
     "output_type": "stream",
     "text": [
      "Train loss: 0.45070137017188805\n",
      "Test loss: 0.4077762008075949\n",
      "#\n"
     ]
    },
    {
     "name": "stderr",
     "output_type": "stream",
     "text": [
      " 89%|███████████████████████████████████████████████████████████████████▊        | 26759/30000 [10:32<01:15, 42.81it/s]"
     ]
    },
    {
     "name": "stdout",
     "output_type": "stream",
     "text": [
      "Train loss: 0.45209261123410144\n",
      "Test loss: 0.40665206126024034\n",
      "#\n"
     ]
    },
    {
     "name": "stderr",
     "output_type": "stream",
     "text": [
      " 90%|████████████████████████████████████████████████████████████████████▍       | 27009/30000 [10:38<01:08, 43.70it/s]"
     ]
    },
    {
     "name": "stdout",
     "output_type": "stream",
     "text": [
      "Train loss: 0.45122396846598\n",
      "Test loss: 0.40210270149994365\n",
      "#\n"
     ]
    },
    {
     "name": "stderr",
     "output_type": "stream",
     "text": [
      " 91%|█████████████████████████████████████████████████████████████████████       | 27256/30000 [10:44<01:03, 42.94it/s]"
     ]
    },
    {
     "name": "stdout",
     "output_type": "stream",
     "text": [
      "Train loss: 0.45276369199233996\n",
      "Test loss: 0.40337160042553705\n",
      "#\n"
     ]
    },
    {
     "name": "stderr",
     "output_type": "stream",
     "text": [
      " 92%|█████████████████████████████████████████████████████████████████████▋      | 27507/30000 [10:50<00:59, 41.92it/s]"
     ]
    },
    {
     "name": "stdout",
     "output_type": "stream",
     "text": [
      "Train loss: 0.45100786548435995\n",
      "Test loss: 0.40259234246984477\n",
      "#\n"
     ]
    },
    {
     "name": "stderr",
     "output_type": "stream",
     "text": [
      " 93%|██████████████████████████████████████████████████████████████████████▎     | 27758/30000 [10:56<00:52, 42.79it/s]"
     ]
    },
    {
     "name": "stdout",
     "output_type": "stream",
     "text": [
      "Train loss: 0.4528270033703512\n",
      "Test loss: 0.4040410742869538\n",
      "#\n"
     ]
    },
    {
     "name": "stderr",
     "output_type": "stream",
     "text": [
      " 93%|██████████████████████████████████████████████████████████████████████▉     | 28010/30000 [11:02<00:46, 42.81it/s]"
     ]
    },
    {
     "name": "stdout",
     "output_type": "stream",
     "text": [
      "Train loss: 0.45073042418703496\n",
      "Test loss: 0.4080767566923407\n",
      "#\n"
     ]
    },
    {
     "name": "stderr",
     "output_type": "stream",
     "text": [
      " 94%|███████████████████████████████████████████████████████████████████████▌    | 28255/30000 [11:07<00:39, 44.25it/s]"
     ]
    },
    {
     "name": "stdout",
     "output_type": "stream",
     "text": [
      "Train loss: 0.4473779916819838\n",
      "Test loss: 0.40982126587337914\n",
      "#\n"
     ]
    },
    {
     "name": "stderr",
     "output_type": "stream",
     "text": [
      " 95%|████████████████████████████████████████████████████████████████████████▏   | 28507/30000 [11:13<00:34, 43.65it/s]"
     ]
    },
    {
     "name": "stdout",
     "output_type": "stream",
     "text": [
      "Train loss: 0.4478510031944331\n",
      "Test loss: 0.4100702801568601\n",
      "#\n"
     ]
    },
    {
     "name": "stderr",
     "output_type": "stream",
     "text": [
      " 96%|████████████████████████████████████████████████████████████████████████▊   | 28757/30000 [11:19<00:29, 42.82it/s]"
     ]
    },
    {
     "name": "stdout",
     "output_type": "stream",
     "text": [
      "Train loss: 0.4460964011772977\n",
      "Test loss: 0.41189034632897076\n",
      "#\n"
     ]
    },
    {
     "name": "stderr",
     "output_type": "stream",
     "text": [
      " 97%|█████████████████████████████████████████████████████████████████████████▍  | 29005/30000 [11:25<00:22, 44.73it/s]"
     ]
    },
    {
     "name": "stdout",
     "output_type": "stream",
     "text": [
      "Train loss: 0.44701164126449033\n",
      "Test loss: 0.4093802282993776\n",
      "#\n"
     ]
    },
    {
     "name": "stderr",
     "output_type": "stream",
     "text": [
      " 98%|██████████████████████████████████████████████████████████████████████████  | 29259/30000 [11:30<00:17, 42.48it/s]"
     ]
    },
    {
     "name": "stdout",
     "output_type": "stream",
     "text": [
      "Train loss: 0.44995364795621423\n",
      "Test loss: 0.40917544486016927\n",
      "#\n"
     ]
    },
    {
     "name": "stderr",
     "output_type": "stream",
     "text": [
      " 98%|██████████████████████████████████████████████████████████████████████████▋ | 29506/30000 [11:36<00:11, 42.40it/s]"
     ]
    },
    {
     "name": "stdout",
     "output_type": "stream",
     "text": [
      "Train loss: 0.4522052003287159\n",
      "Test loss: 0.4097548408894834\n",
      "#\n"
     ]
    },
    {
     "name": "stderr",
     "output_type": "stream",
     "text": [
      " 99%|███████████████████████████████████████████████████████████████████████████▍| 29757/30000 [11:42<00:05, 44.55it/s]"
     ]
    },
    {
     "name": "stdout",
     "output_type": "stream",
     "text": [
      "Train loss: 0.44990901618051277\n",
      "Test loss: 0.4073347005484198\n",
      "#\n"
     ]
    },
    {
     "name": "stderr",
     "output_type": "stream",
     "text": [
      "100%|████████████████████████████████████████████████████████████████████████████| 30000/30000 [11:48<00:00, 42.35it/s]\n"
     ]
    }
   ],
   "source": [
    "for iteration in tqdm(range(30_000)):\n",
    "    process_batch(train_generator, True)\n",
    "    with torch.no_grad():\n",
    "        process_batch(test_generator, False)\n",
    "        \n",
    "    if iteration % 250 == 0:\n",
    "        eval_lag = min(1000, iteration)\n",
    "        print(f\"Train loss: {np.mean(loss_history_train[-eval_lag:])}\")\n",
    "        print(f\"Test loss: {np.mean(loss_history_test[-eval_lag:])}\")\n",
    "        print(\"#\")\n",
    "        \n",
    "    if iteration % 5000 == 0:\n",
    "        torch.save(model.state_dict(), \"speech_net\")\n",
    "        \n",
    "        \n",
    "Y_predicted = []\n",
    "Y_batch = []\n"
   ]
  },
  {
   "cell_type": "code",
   "execution_count": 14,
   "metadata": {},
   "outputs": [
    {
     "name": "stderr",
     "output_type": "stream",
     "text": [
      "0it [00:00, ?it/s]<ipython-input-7-fa77fa0ca644>:20: FutureWarning: Using a non-tuple sequence for multidimensional indexing is deprecated; use `arr[tuple(seq)]` instead of `arr[seq]`. In the future this will be interpreted as an array index, `arr[np.array(seq)]`, which will result either in an error or a different result.\n",
      "  batch_y = Y[[batch_samples]]\n",
      "1401it [00:02, 499.68it/s]\n"
     ]
    },
    {
     "name": "stdout",
     "output_type": "stream",
     "text": [
      "Correlation   val 0.6170569403061694\n"
     ]
    },
    {
     "data": {
      "image/png": "[encoded data removed]",
      "text/plain": [
       "<Figure size 1152x216 with 1 Axes>"
      ]
     },
     "metadata": {
      "needs_background": "light"
     },
     "output_type": "display_data"
    }
   ],
   "source": [
    "\n",
    "#model.cuda()\n",
    "\n",
    "for index, (x_batch, y_batch) in tqdm(enumerate(data_generator(X_test, Y_test, BATCH_SIZE, LAG_BACKWARD, LAG_FORWARD, shuffle=False, infinite=False))):\n",
    "    #### Train\n",
    "    model.eval()\n",
    "    \n",
    "    if index < 1000:\n",
    "        continue  # skip first samples\n",
    "    \n",
    "    if index > 1400:\n",
    "        break # skip all the rest\n",
    "\n",
    "    x_batch = torch.FloatTensor(x_batch)\n",
    "    y_predicted = model(x_batch).cpu().data.numpy()\n",
    "    assert x_batch.shape[0]==y_predicted.shape[0]\n",
    "    Y_predicted.append(y_predicted)\n",
    "    Y_batch.append(y_batch)\n",
    "\n",
    "Y_predicted = np.concatenate(Y_predicted, axis=0)\n",
    "Y_batch = np.concatenate(Y_batch, axis=0)\n",
    "\n",
    "print(\"Correlation   val\", np.corrcoef(Y_predicted[:, 0], Y_batch[:, 0], rowvar=False)[0,1])\n",
    "\n",
    "plt.figure(figsize=(16, 3))\n",
    "plt.plot(Y_predicted, label=\"predicted\", alpha=0.7)\n",
    "plt.plot(Y_batch, label=\"true\", alpha=0.7)\n",
    "plt.legend()\n",
    "plt.show()"
   ]
  },
  {
   "cell_type": "code",
   "execution_count": null,
   "metadata": {},
   "outputs": [],
   "source": []
  },
  {
   "cell_type": "code",
   "execution_count": null,
   "metadata": {},
   "outputs": [],
   "source": []
  },
  {
   "cell_type": "code",
   "execution_count": null,
   "metadata": {},
   "outputs": [],
   "source": []
  },
  {
   "cell_type": "code",
   "execution_count": null,
   "metadata": {},
   "outputs": [],
   "source": []
  },
  {
   "cell_type": "code",
   "execution_count": null,
   "metadata": {},
   "outputs": [],
   "source": []
  },
  {
   "cell_type": "code",
   "execution_count": null,
   "metadata": {},
   "outputs": [],
   "source": []
  },
  {
   "cell_type": "code",
   "execution_count": null,
   "metadata": {},
   "outputs": [],
   "source": []
  }
 ],
 "metadata": {
  "kernelspec": {
   "display_name": "Python [conda env:neural_signal]",
   "language": "python",
   "name": "conda-env-neural_signal-py"
  },
  "language_info": {
   "codemirror_mode": {
    "name": "ipython",
    "version": 3
   },
   "file_extension": ".py",
   "mimetype": "text/x-python",
   "name": "python",
   "nbconvert_exporter": "python",
   "pygments_lexer": "ipython3",
   "version": "3.8.8"
  }
 },
 "nbformat": 4,
 "nbformat_minor": 4
}
